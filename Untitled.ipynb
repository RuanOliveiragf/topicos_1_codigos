{
 "cells": [
  {
   "cell_type": "markdown",
   "id": "6a15fa13-d5f8-42bf-81b0-a1af9a229f2b",
   "metadata": {},
   "source": [
    "<div style=\"text-align: center;\">\n",
    "    <img src=\"brasao_ufba.jpg\" alt=\"Brasão da UFBA\" width=\"75\"/>\n",
    "</div>\n",
    "\n",
    "**Universidade Federal da Bahia**  \n",
    "**Escola Politécnica**  \n",
    "**Departamento de Engenharia Elétrica e de Computação**  \n",
    "\n",
    "**Disciplina:** Introdução ao Aprendizado de Máquina (ENGG67)  \n",
    "**Professor:** Antônio C. L. Fernandes Jr.  \n",
    "**Alunos(as):** Ruan Oliveira de Jesus, Lucy Cássia Cerqueira da Silva  \n",
    "**Data de apresentação e entrega:** 22/04/2025  \n",
    "\n",
    "<span style=\"font-size: 30px;\">Avaliação 1</span>\n",
    "\n",
    "---\n"
   ]
  },
  {
   "cell_type": "code",
   "execution_count": 2,
   "id": "37e02f78-e5ae-452a-9064-9ab585bff5d8",
   "metadata": {},
   "outputs": [
    {
     "name": "stdout",
     "output_type": "stream",
     "text": [
      "Collecting ucimlrepo\n",
      "  Downloading ucimlrepo-0.0.7-py3-none-any.whl.metadata (5.5 kB)\n",
      "Collecting pandas>=1.0.0 (from ucimlrepo)\n",
      "  Downloading pandas-2.2.3-cp312-cp312-win_amd64.whl.metadata (19 kB)\n",
      "Requirement already satisfied: certifi>=2020.12.5 in c:\\users\\ruano\\appdata\\local\\programs\\python\\python312\\lib\\site-packages (from ucimlrepo) (2025.1.31)\n",
      "Collecting numpy>=1.26.0 (from pandas>=1.0.0->ucimlrepo)\n",
      "  Downloading numpy-2.2.4-cp312-cp312-win_amd64.whl.metadata (60 kB)\n",
      "Requirement already satisfied: python-dateutil>=2.8.2 in c:\\users\\ruano\\appdata\\local\\programs\\python\\python312\\lib\\site-packages (from pandas>=1.0.0->ucimlrepo) (2.9.0.post0)\n",
      "Collecting pytz>=2020.1 (from pandas>=1.0.0->ucimlrepo)\n",
      "  Downloading pytz-2025.2-py2.py3-none-any.whl.metadata (22 kB)\n",
      "Collecting tzdata>=2022.7 (from pandas>=1.0.0->ucimlrepo)\n",
      "  Downloading tzdata-2025.2-py2.py3-none-any.whl.metadata (1.4 kB)\n",
      "Requirement already satisfied: six>=1.5 in c:\\users\\ruano\\appdata\\local\\programs\\python\\python312\\lib\\site-packages (from python-dateutil>=2.8.2->pandas>=1.0.0->ucimlrepo) (1.17.0)\n",
      "Downloading ucimlrepo-0.0.7-py3-none-any.whl (8.0 kB)\n",
      "Downloading pandas-2.2.3-cp312-cp312-win_amd64.whl (11.5 MB)\n",
      "   ---------------------------------------- 0.0/11.5 MB ? eta -:--:--\n",
      "   ---- ----------------------------------- 1.3/11.5 MB 7.4 MB/s eta 0:00:02\n",
      "   --------- ------------------------------ 2.6/11.5 MB 7.2 MB/s eta 0:00:02\n",
      "   ------------- -------------------------- 3.9/11.5 MB 6.7 MB/s eta 0:00:02\n",
      "   ------------------- -------------------- 5.5/11.5 MB 7.0 MB/s eta 0:00:01\n",
      "   ---------------------- ----------------- 6.6/11.5 MB 6.7 MB/s eta 0:00:01\n",
      "   --------------------------- ------------ 7.9/11.5 MB 6.5 MB/s eta 0:00:01\n",
      "   ------------------------------ --------- 8.9/11.5 MB 6.4 MB/s eta 0:00:01\n",
      "   ------------------------------------ --- 10.5/11.5 MB 6.5 MB/s eta 0:00:01\n",
      "   ---------------------------------------  11.3/11.5 MB 6.5 MB/s eta 0:00:01\n",
      "   ---------------------------------------- 11.5/11.5 MB 5.8 MB/s eta 0:00:00\n",
      "Downloading numpy-2.2.4-cp312-cp312-win_amd64.whl (12.6 MB)\n",
      "   ---------------------------------------- 0.0/12.6 MB ? eta -:--:--\n",
      "   ---- ----------------------------------- 1.6/12.6 MB 7.6 MB/s eta 0:00:02\n",
      "   --------- ------------------------------ 2.9/12.6 MB 7.3 MB/s eta 0:00:02\n",
      "   -------------- ------------------------- 4.5/12.6 MB 6.9 MB/s eta 0:00:02\n",
      "   ------------------ --------------------- 5.8/12.6 MB 6.8 MB/s eta 0:00:02\n",
      "   ---------------------- ----------------- 7.1/12.6 MB 6.6 MB/s eta 0:00:01\n",
      "   ------------------------- -------------- 8.1/12.6 MB 6.5 MB/s eta 0:00:01\n",
      "   ----------------------------- ---------- 9.4/12.6 MB 6.3 MB/s eta 0:00:01\n",
      "   ---------------------------------- ----- 10.7/12.6 MB 6.3 MB/s eta 0:00:01\n",
      "   -------------------------------------- - 12.1/12.6 MB 6.3 MB/s eta 0:00:01\n",
      "   ---------------------------------------- 12.6/12.6 MB 6.0 MB/s eta 0:00:00\n",
      "Downloading pytz-2025.2-py2.py3-none-any.whl (509 kB)\n",
      "Downloading tzdata-2025.2-py2.py3-none-any.whl (347 kB)\n",
      "Installing collected packages: pytz, tzdata, numpy, pandas, ucimlrepo\n",
      "Successfully installed numpy-2.2.4 pandas-2.2.3 pytz-2025.2 tzdata-2025.2 ucimlrepo-0.0.7\n"
     ]
    },
    {
     "name": "stderr",
     "output_type": "stream",
     "text": [
      "\n",
      "[notice] A new release of pip is available: 24.2 -> 25.0.1\n",
      "[notice] To update, run: python.exe -m pip install --upgrade pip\n"
     ]
    }
   ],
   "source": [
    "!pip install ucimlrepo"
   ]
  },
  {
   "cell_type": "markdown",
   "id": "e25917ca-563d-45d6-b9f7-4b1f1aa84621",
   "metadata": {},
   "source": [
    "<span style=\"font-size: 20px;\">Questao 1a) </span>\n",
    "\n",
    "**O conjunto de dados é univariado ou multivariado? Descreva a quantidade de atributos preditivos e atributos alvo.**\n",
    "\n",
    "<div style=\"text-align: justify;\">\n",
    "Os dados univariados são aqueles que contêm **apenas uma variável/atributo**. Enquanto os dados multivariados são aqueles que possuem **duas ou mais variáveis/atributos** que podem estar relacionados.\n",
    "\n",
    "<br>\n",
    "\n",
    "O dataset **Breast Cancer Wisconsin (Diagnostic)**, utilizado no presente trabalho, contém vários atributos (raio, textura, perímetro, área, suavidade, compactação, concavidade, pontos côncavos, simetria, dimensão fractal) para cada amostra de tumor, além da coluna de diagnóstico *(num)* que classifica-o como benigno ou maligno.\n",
    "\n",
    "<br>\n",
    "\n",
    "Cada instância/linha representa um tumor descrito por **30 atributos**. Todas essas características quando analisadas em conjunto são capazes de prever ou classificar o diagnóstico.\n",
    "\n",
    "<br>\n",
    "\n",
    "Portanto, o dataset utilizado trata-se de um **conjunto de dados multivariado**.\n",
    "</div>\n"
   ]
  },
  {
   "cell_type": "code",
   "execution_count": null,
   "id": "763e9f6e-1291-4c70-9de5-e849c3201a7a",
   "metadata": {},
   "outputs": [],
   "source": []
  }
 ],
 "metadata": {
  "kernelspec": {
   "display_name": "Python 3 (ipykernel)",
   "language": "python",
   "name": "python3"
  },
  "language_info": {
   "codemirror_mode": {
    "name": "ipython",
    "version": 3
   },
   "file_extension": ".py",
   "mimetype": "text/x-python",
   "name": "python",
   "nbconvert_exporter": "python",
   "pygments_lexer": "ipython3",
   "version": "3.12.6"
  }
 },
 "nbformat": 4,
 "nbformat_minor": 5
}
